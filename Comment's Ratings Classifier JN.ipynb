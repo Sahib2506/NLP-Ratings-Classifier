{
 "cells": [
  {
   "cell_type": "code",
   "execution_count": 1,
   "id": "a4a4fb31",
   "metadata": {},
   "outputs": [],
   "source": [
    "import pandas as pd\n",
    "import numpy as np\n",
    "import seaborn as sns\n",
    "import matplotlib.pyplot as plt\n",
    "import warnings\n",
    "warnings.filterwarnings('ignore')"
   ]
  },
  {
   "cell_type": "code",
   "execution_count": 39,
   "id": "7f637b09",
   "metadata": {},
   "outputs": [
    {
     "data": {
      "text/html": [
       "<div>\n",
       "<style scoped>\n",
       "    .dataframe tbody tr th:only-of-type {\n",
       "        vertical-align: middle;\n",
       "    }\n",
       "\n",
       "    .dataframe tbody tr th {\n",
       "        vertical-align: top;\n",
       "    }\n",
       "\n",
       "    .dataframe thead th {\n",
       "        text-align: right;\n",
       "    }\n",
       "</style>\n",
       "<table border=\"1\" class=\"dataframe\">\n",
       "  <thead>\n",
       "    <tr style=\"text-align: right;\">\n",
       "      <th></th>\n",
       "      <th>Unnamed: 0</th>\n",
       "      <th>Comments</th>\n",
       "      <th>Ratings</th>\n",
       "    </tr>\n",
       "  </thead>\n",
       "  <tbody>\n",
       "    <tr>\n",
       "      <th>0</th>\n",
       "      <td>0</td>\n",
       "      <td>Awesome</td>\n",
       "      <td>5.0</td>\n",
       "    </tr>\n",
       "    <tr>\n",
       "      <th>1</th>\n",
       "      <td>1</td>\n",
       "      <td>Best buy at this price! The display quality is...</td>\n",
       "      <td>5.0</td>\n",
       "    </tr>\n",
       "    <tr>\n",
       "      <th>2</th>\n",
       "      <td>2</td>\n",
       "      <td>Good product value for money but ordering is t...</td>\n",
       "      <td>5.0</td>\n",
       "    </tr>\n",
       "    <tr>\n",
       "      <th>3</th>\n",
       "      <td>3</td>\n",
       "      <td>Good mobile</td>\n",
       "      <td>5.0</td>\n",
       "    </tr>\n",
       "    <tr>\n",
       "      <th>4</th>\n",
       "      <td>4</td>\n",
       "      <td>best good product prive battry camera all very...</td>\n",
       "      <td>5.0</td>\n",
       "    </tr>\n",
       "  </tbody>\n",
       "</table>\n",
       "</div>"
      ],
      "text/plain": [
       "   Unnamed: 0                                           Comments  Ratings\n",
       "0           0                                            Awesome      5.0\n",
       "1           1  Best buy at this price! The display quality is...      5.0\n",
       "2           2  Good product value for money but ordering is t...      5.0\n",
       "3           3                                        Good mobile      5.0\n",
       "4           4  best good product prive battry camera all very...      5.0"
      ]
     },
     "execution_count": 39,
     "metadata": {},
     "output_type": "execute_result"
    }
   ],
   "source": [
    "df = pd.read_csv('Comment Ratings.csv')\n",
    "df.head()"
   ]
  },
  {
   "cell_type": "code",
   "execution_count": 40,
   "id": "884b187d",
   "metadata": {},
   "outputs": [],
   "source": [
    "#removing id as it does not impact the model\n",
    "df.drop('Unnamed: 0', axis =1, inplace =True)"
   ]
  },
  {
   "cell_type": "code",
   "execution_count": 4,
   "id": "db58d8ae",
   "metadata": {},
   "outputs": [
    {
     "data": {
      "text/plain": [
       "(2278, 2)"
      ]
     },
     "execution_count": 4,
     "metadata": {},
     "output_type": "execute_result"
    }
   ],
   "source": [
    "#checking number of rows and columns of the given dataset\n",
    "df.shape"
   ]
  },
  {
   "cell_type": "code",
   "execution_count": 5,
   "id": "09f728ab",
   "metadata": {},
   "outputs": [
    {
     "data": {
      "text/plain": [
       "Index(['Comments', 'Ratings'], dtype='object')"
      ]
     },
     "execution_count": 5,
     "metadata": {},
     "output_type": "execute_result"
    }
   ],
   "source": [
    "df.columns"
   ]
  },
  {
   "cell_type": "code",
   "execution_count": 6,
   "id": "64c4cf8e",
   "metadata": {},
   "outputs": [
    {
     "name": "stdout",
     "output_type": "stream",
     "text": [
      "5.0    530\n",
      "4.0    518\n",
      "2.0    410\n",
      "1.0    410\n",
      "3.0    410\n",
      "Name: Ratings, dtype: int64\n"
     ]
    }
   ],
   "source": [
    "#Lets check the value counts for every rating.\n",
    "print(df['Ratings'].value_counts())"
   ]
  },
  {
   "cell_type": "code",
   "execution_count": 41,
   "id": "3bd5463b",
   "metadata": {},
   "outputs": [
    {
     "data": {
      "text/plain": [
       "(2101, 2)"
      ]
     },
     "execution_count": 41,
     "metadata": {},
     "output_type": "execute_result"
    }
   ],
   "source": [
    "df.drop_duplicates(inplace = True)\n",
    "df.shape"
   ]
  },
  {
   "cell_type": "code",
   "execution_count": 42,
   "id": "7281f659",
   "metadata": {},
   "outputs": [
    {
     "data": {
      "text/html": [
       "<div>\n",
       "<style scoped>\n",
       "    .dataframe tbody tr th:only-of-type {\n",
       "        vertical-align: middle;\n",
       "    }\n",
       "\n",
       "    .dataframe tbody tr th {\n",
       "        vertical-align: top;\n",
       "    }\n",
       "\n",
       "    .dataframe thead th {\n",
       "        text-align: right;\n",
       "    }\n",
       "</style>\n",
       "<table border=\"1\" class=\"dataframe\">\n",
       "  <thead>\n",
       "    <tr style=\"text-align: right;\">\n",
       "      <th></th>\n",
       "      <th>Ratings</th>\n",
       "    </tr>\n",
       "  </thead>\n",
       "  <tbody>\n",
       "    <tr>\n",
       "      <th>count</th>\n",
       "      <td>2101.000000</td>\n",
       "    </tr>\n",
       "    <tr>\n",
       "      <th>mean</th>\n",
       "      <td>3.034269</td>\n",
       "    </tr>\n",
       "    <tr>\n",
       "      <th>std</th>\n",
       "      <td>1.416154</td>\n",
       "    </tr>\n",
       "    <tr>\n",
       "      <th>min</th>\n",
       "      <td>1.000000</td>\n",
       "    </tr>\n",
       "    <tr>\n",
       "      <th>25%</th>\n",
       "      <td>2.000000</td>\n",
       "    </tr>\n",
       "    <tr>\n",
       "      <th>50%</th>\n",
       "      <td>3.000000</td>\n",
       "    </tr>\n",
       "    <tr>\n",
       "      <th>75%</th>\n",
       "      <td>4.000000</td>\n",
       "    </tr>\n",
       "    <tr>\n",
       "      <th>max</th>\n",
       "      <td>5.000000</td>\n",
       "    </tr>\n",
       "  </tbody>\n",
       "</table>\n",
       "</div>"
      ],
      "text/plain": [
       "           Ratings\n",
       "count  2101.000000\n",
       "mean      3.034269\n",
       "std       1.416154\n",
       "min       1.000000\n",
       "25%       2.000000\n",
       "50%       3.000000\n",
       "75%       4.000000\n",
       "max       5.000000"
      ]
     },
     "execution_count": 42,
     "metadata": {},
     "output_type": "execute_result"
    }
   ],
   "source": [
    "df.describe()"
   ]
  },
  {
   "cell_type": "code",
   "execution_count": 15,
   "id": "e65d28bf",
   "metadata": {},
   "outputs": [
    {
     "data": {
      "image/png": "[encoded data removed]",
      "text/plain": [
       "<Figure size 432x288 with 1 Axes>"
      ]
     },
     "metadata": {
      "needs_background": "light"
     },
     "output_type": "display_data"
    }
   ],
   "source": [
    "sns.countplot(x=\"Ratings\" , data = df)\n",
    "plt.show()"
   ]
  },
  {
   "cell_type": "code",
   "execution_count": 16,
   "id": "066262f6",
   "metadata": {},
   "outputs": [
    {
     "name": "stderr",
     "output_type": "stream",
     "text": [
      "[nltk_data] Downloading package punkt to\n",
      "[nltk_data]     C:\\Users\\OWNER\\AppData\\Roaming\\nltk_data...\n",
      "[nltk_data]   Package punkt is already up-to-date!\n",
      "[nltk_data] Downloading package stopwords to\n",
      "[nltk_data]     C:\\Users\\OWNER\\AppData\\Roaming\\nltk_data...\n",
      "[nltk_data]   Unzipping corpora\\stopwords.zip.\n",
      "[nltk_data] Downloading package wordnet to\n",
      "[nltk_data]     C:\\Users\\OWNER\\AppData\\Roaming\\nltk_data...\n",
      "[nltk_data]   Package wordnet is already up-to-date!\n"
     ]
    },
    {
     "data": {
      "text/plain": [
       "True"
      ]
     },
     "execution_count": 16,
     "metadata": {},
     "output_type": "execute_result"
    }
   ],
   "source": [
    "import nltk\n",
    "nltk.download('punkt')\n",
    "nltk.download('stopwords')\n",
    "nltk.download('wordnet')"
   ]
  },
  {
   "cell_type": "code",
   "execution_count": 17,
   "id": "14ff3293",
   "metadata": {},
   "outputs": [],
   "source": [
    "from nltk.tokenize import word_tokenize\n",
    "from nltk.corpus import stopwords\n",
    "from nltk.stem.wordnet import WordNetLemmatizer\n",
    "from nltk.stem.porter import PorterStemmer"
   ]
  },
  {
   "cell_type": "code",
   "execution_count": 46,
   "id": "544e980e",
   "metadata": {},
   "outputs": [],
   "source": [
    "df['Comments']=df['Comments'].apply(str)"
   ]
  },
  {
   "cell_type": "code",
   "execution_count": 49,
   "id": "918cfc70",
   "metadata": {},
   "outputs": [],
   "source": [
    "df['tokenized_text'] = df['Comments'].apply(word_tokenize)"
   ]
  },
  {
   "cell_type": "code",
   "execution_count": 43,
   "id": "72f5b6ef",
   "metadata": {},
   "outputs": [],
   "source": [
    "lem = WordNetLemmatizer()\n",
    "new_stopwords_list = set(stopwords.words('english') + ['u', 'ü', 'ur', '4', '2', 'im', 'dont', 'doin', 'ure','!','@','#','$','%','^','&','*','(',')'])"
   ]
  },
  {
   "cell_type": "code",
   "execution_count": 44,
   "id": "96de1791",
   "metadata": {},
   "outputs": [],
   "source": [
    "def lemmatize_text(text):\n",
    "    return [lem.lemmatize(w) for w in text if w not in new_stopwords_list]"
   ]
  },
  {
   "cell_type": "code",
   "execution_count": 50,
   "id": "7eec4409",
   "metadata": {},
   "outputs": [],
   "source": [
    "df['Lemmatized_Text'] = df['tokenized_text'].apply(lemmatize_text).apply(', '.join)"
   ]
  },
  {
   "cell_type": "code",
   "execution_count": 51,
   "id": "fdcf1b6c",
   "metadata": {},
   "outputs": [
    {
     "data": {
      "text/html": [
       "<div>\n",
       "<style scoped>\n",
       "    .dataframe tbody tr th:only-of-type {\n",
       "        vertical-align: middle;\n",
       "    }\n",
       "\n",
       "    .dataframe tbody tr th {\n",
       "        vertical-align: top;\n",
       "    }\n",
       "\n",
       "    .dataframe thead th {\n",
       "        text-align: right;\n",
       "    }\n",
       "</style>\n",
       "<table border=\"1\" class=\"dataframe\">\n",
       "  <thead>\n",
       "    <tr style=\"text-align: right;\">\n",
       "      <th></th>\n",
       "      <th>Comments</th>\n",
       "      <th>Ratings</th>\n",
       "      <th>Lemmatized_Text</th>\n",
       "      <th>tokenized_text</th>\n",
       "    </tr>\n",
       "  </thead>\n",
       "  <tbody>\n",
       "    <tr>\n",
       "      <th>0</th>\n",
       "      <td>Awesome</td>\n",
       "      <td>5.0</td>\n",
       "      <td>Awesome</td>\n",
       "      <td>[Awesome]</td>\n",
       "    </tr>\n",
       "    <tr>\n",
       "      <th>1</th>\n",
       "      <td>Best buy at this price! The display quality is...</td>\n",
       "      <td>5.0</td>\n",
       "      <td>Best, buy, price, The, display, quality, amazi...</td>\n",
       "      <td>[Best, buy, at, this, price, !, The, display, ...</td>\n",
       "    </tr>\n",
       "    <tr>\n",
       "      <th>2</th>\n",
       "      <td>Good product value for money but ordering is t...</td>\n",
       "      <td>5.0</td>\n",
       "      <td>Good, product, value, money, ordering, difficu...</td>\n",
       "      <td>[Good, product, value, for, money, but, orderi...</td>\n",
       "    </tr>\n",
       "    <tr>\n",
       "      <th>3</th>\n",
       "      <td>Good mobile</td>\n",
       "      <td>5.0</td>\n",
       "      <td>Good, mobile</td>\n",
       "      <td>[Good, mobile]</td>\n",
       "    </tr>\n",
       "    <tr>\n",
       "      <th>4</th>\n",
       "      <td>best good product prive battry camera all very...</td>\n",
       "      <td>5.0</td>\n",
       "      <td>best, good, product, prive, battry, camera, good</td>\n",
       "      <td>[best, good, product, prive, battry, camera, a...</td>\n",
       "    </tr>\n",
       "  </tbody>\n",
       "</table>\n",
       "</div>"
      ],
      "text/plain": [
       "                                            Comments  Ratings  \\\n",
       "0                                            Awesome      5.0   \n",
       "1  Best buy at this price! The display quality is...      5.0   \n",
       "2  Good product value for money but ordering is t...      5.0   \n",
       "3                                        Good mobile      5.0   \n",
       "4  best good product prive battry camera all very...      5.0   \n",
       "\n",
       "                                     Lemmatized_Text  \\\n",
       "0                                            Awesome   \n",
       "1  Best, buy, price, The, display, quality, amazi...   \n",
       "2  Good, product, value, money, ordering, difficu...   \n",
       "3                                       Good, mobile   \n",
       "4   best, good, product, prive, battry, camera, good   \n",
       "\n",
       "                                      tokenized_text  \n",
       "0                                          [Awesome]  \n",
       "1  [Best, buy, at, this, price, !, The, display, ...  \n",
       "2  [Good, product, value, for, money, but, orderi...  \n",
       "3                                     [Good, mobile]  \n",
       "4  [best, good, product, prive, battry, camera, a...  "
      ]
     },
     "execution_count": 51,
     "metadata": {},
     "output_type": "execute_result"
    }
   ],
   "source": [
    "df.head()"
   ]
  },
  {
   "cell_type": "code",
   "execution_count": 52,
   "id": "091a13ca",
   "metadata": {},
   "outputs": [
    {
     "data": {
      "text/html": [
       "<div>\n",
       "<style scoped>\n",
       "    .dataframe tbody tr th:only-of-type {\n",
       "        vertical-align: middle;\n",
       "    }\n",
       "\n",
       "    .dataframe tbody tr th {\n",
       "        vertical-align: top;\n",
       "    }\n",
       "\n",
       "    .dataframe thead th {\n",
       "        text-align: right;\n",
       "    }\n",
       "</style>\n",
       "<table border=\"1\" class=\"dataframe\">\n",
       "  <thead>\n",
       "    <tr style=\"text-align: right;\">\n",
       "      <th></th>\n",
       "      <th>Comments</th>\n",
       "      <th>Ratings</th>\n",
       "      <th>Lemmatized_Text</th>\n",
       "      <th>tokenized_text</th>\n",
       "    </tr>\n",
       "  </thead>\n",
       "  <tbody>\n",
       "    <tr>\n",
       "      <th>0</th>\n",
       "      <td>Awesome</td>\n",
       "      <td>5.0</td>\n",
       "      <td>awesome</td>\n",
       "      <td>[Awesome]</td>\n",
       "    </tr>\n",
       "    <tr>\n",
       "      <th>1</th>\n",
       "      <td>Best buy at this price! The display quality is...</td>\n",
       "      <td>5.0</td>\n",
       "      <td>best buy price the display quality amazing i c...</td>\n",
       "      <td>[Best, buy, at, this, price, !, The, display, ...</td>\n",
       "    </tr>\n",
       "    <tr>\n",
       "      <th>2</th>\n",
       "      <td>Good product value for money but ordering is t...</td>\n",
       "      <td>5.0</td>\n",
       "      <td>good product value money ordering difficult wi...</td>\n",
       "      <td>[Good, product, value, for, money, but, orderi...</td>\n",
       "    </tr>\n",
       "    <tr>\n",
       "      <th>3</th>\n",
       "      <td>Good mobile</td>\n",
       "      <td>5.0</td>\n",
       "      <td>good mobile</td>\n",
       "      <td>[Good, mobile]</td>\n",
       "    </tr>\n",
       "    <tr>\n",
       "      <th>4</th>\n",
       "      <td>best good product prive battry camera all very...</td>\n",
       "      <td>5.0</td>\n",
       "      <td>best good product prive battry camera good</td>\n",
       "      <td>[best, good, product, prive, battry, camera, a...</td>\n",
       "    </tr>\n",
       "  </tbody>\n",
       "</table>\n",
       "</div>"
      ],
      "text/plain": [
       "                                            Comments  Ratings  \\\n",
       "0                                            Awesome      5.0   \n",
       "1  Best buy at this price! The display quality is...      5.0   \n",
       "2  Good product value for money but ordering is t...      5.0   \n",
       "3                                        Good mobile      5.0   \n",
       "4  best good product prive battry camera all very...      5.0   \n",
       "\n",
       "                                     Lemmatized_Text  \\\n",
       "0                                            awesome   \n",
       "1  best buy price the display quality amazing i c...   \n",
       "2  good product value money ordering difficult wi...   \n",
       "3                                        good mobile   \n",
       "4         best good product prive battry camera good   \n",
       "\n",
       "                                      tokenized_text  \n",
       "0                                          [Awesome]  \n",
       "1  [Best, buy, at, this, price, !, The, display, ...  \n",
       "2  [Good, product, value, for, money, but, orderi...  \n",
       "3                                     [Good, mobile]  \n",
       "4  [best, good, product, prive, battry, camera, a...  "
      ]
     },
     "execution_count": 52,
     "metadata": {},
     "output_type": "execute_result"
    }
   ],
   "source": [
    "import re\n",
    "df['Lemmatized_Text'] = df['Lemmatized_Text'].str.lower()\n",
    "df['Lemmatized_Text'] = df['Lemmatized_Text'].apply(lambda x: re.sub(r\"(@[A-Za-z0-9]+)|([^0-9A-Za-z \\t])|(\\w+:\\/\\/\\S+)|^rt|http.+?\", \"\", x))\n",
    "df['Lemmatized_Text'] = df['Lemmatized_Text'].apply(lambda x: re.sub(r\"\\d+\", \"\", x))\n",
    "df.head()"
   ]
  },
  {
   "cell_type": "code",
   "execution_count": 53,
   "id": "a8c2d85e",
   "metadata": {},
   "outputs": [],
   "source": [
    "from sklearn.feature_extraction.text import TfidfVectorizer"
   ]
  },
  {
   "cell_type": "code",
   "execution_count": 54,
   "id": "f9ed0d65",
   "metadata": {},
   "outputs": [
    {
     "data": {
      "text/plain": [
       "(2101, 7742)"
      ]
     },
     "execution_count": 54,
     "metadata": {},
     "output_type": "execute_result"
    }
   ],
   "source": [
    "cv = TfidfVectorizer(stop_words='english',\n",
    "    sublinear_tf=True,\n",
    "    strip_accents='unicode',\n",
    "    analyzer='word',\n",
    "    token_pattern=r'\\w{2,}',  #vectorize 2-character words or more\n",
    "    ngram_range=(1, 1))\n",
    "\n",
    "# Use the content column instead of our single text variable\n",
    "x = cv.fit_transform(df['Lemmatized_Text'])\n",
    "x.shape"
   ]
  },
  {
   "cell_type": "code",
   "execution_count": 55,
   "id": "c65d7834",
   "metadata": {},
   "outputs": [],
   "source": [
    "y = df['Ratings']"
   ]
  },
  {
   "cell_type": "code",
   "execution_count": 56,
   "id": "985048cd",
   "metadata": {},
   "outputs": [],
   "source": [
    "from sklearn.model_selection import train_test_split\n",
    "x_train, x_test, y_train, y_test = train_test_split(x,y,test_size = 0.25, random_state = 100, stratify = y)"
   ]
  },
  {
   "cell_type": "markdown",
   "id": "e8dabf56",
   "metadata": {},
   "source": [
    "**Naive bayes Classifier**"
   ]
  },
  {
   "cell_type": "code",
   "execution_count": 61,
   "id": "de0e8a34",
   "metadata": {},
   "outputs": [],
   "source": [
    "#Training model using Naive bayes Classifier\n",
    "\n",
    "from sklearn.naive_bayes import MultinomialNB\n",
    "from sklearn.multiclass import OneVsRestClassifier\n",
    "ovr  = OneVsRestClassifier(MultinomialNB())\n",
    "ovr_model = ovr.fit(x_train,y_train)\n",
    "ovr_ypred = ovr_model.predict(x_test)"
   ]
  },
  {
   "cell_type": "code",
   "execution_count": 62,
   "id": "1188fc62",
   "metadata": {},
   "outputs": [],
   "source": [
    "from sklearn.metrics import confusion_matrix\n",
    "from sklearn.metrics import accuracy_score\n",
    "from sklearn.metrics import confusion_matrix, classification_report\n",
    "from sklearn.metrics import roc_curve, roc_auc_score, plot_roc_curve"
   ]
  },
  {
   "cell_type": "code",
   "execution_count": 63,
   "id": "0b256335",
   "metadata": {},
   "outputs": [
    {
     "name": "stdout",
     "output_type": "stream",
     "text": [
      "[[73  2  3 15 10]\n",
      " [33  8 18 31 12]\n",
      " [17  6 17 36 27]\n",
      " [ 3  0  5 56 46]\n",
      " [ 4  0  2 33 69]]\n"
     ]
    }
   ],
   "source": [
    "#Confusion Matrix for Naive Byes\n",
    "print(confusion_matrix(y_test,ovr_ypred))"
   ]
  },
  {
   "cell_type": "code",
   "execution_count": 65,
   "id": "9791128b",
   "metadata": {},
   "outputs": [
    {
     "name": "stdout",
     "output_type": "stream",
     "text": [
      "---Accuracy Score for Naive Byes---\n",
      "\n",
      " 0.42395437262357416\n",
      "\n",
      "---Classification Report for Naive Byes---\n",
      "\n",
      "               precision    recall  f1-score   support\n",
      "\n",
      "         1.0       0.56      0.71      0.63       103\n",
      "         2.0       0.50      0.08      0.14       102\n",
      "         3.0       0.38      0.17      0.23       103\n",
      "         4.0       0.33      0.51      0.40       110\n",
      "         5.0       0.42      0.64      0.51       108\n",
      "\n",
      "    accuracy                           0.42       526\n",
      "   macro avg       0.44      0.42      0.38       526\n",
      "weighted avg       0.44      0.42      0.38       526\n",
      "\n"
     ]
    }
   ],
   "source": [
    "print('---Accuracy Score for Naive Byes---\\n\\n',accuracy_score(y_test,ovr_ypred))\n",
    "print('\\n---Classification Report for Naive Byes---\\n\\n',classification_report(y_test,ovr_ypred))"
   ]
  },
  {
   "cell_type": "code",
   "execution_count": 35,
   "id": "e5d21e22",
   "metadata": {},
   "outputs": [],
   "source": [
    "#Hyperparameter Tuning"
   ]
  },
  {
   "cell_type": "code",
   "execution_count": 111,
   "id": "199b0b66",
   "metadata": {},
   "outputs": [],
   "source": [
    "from sklearn.model_selection import GridSearchCV\n",
    "import numpy as np"
   ]
  },
  {
   "cell_type": "code",
   "execution_count": 168,
   "id": "0396cb3e",
   "metadata": {},
   "outputs": [],
   "source": [
    "params = {'alpha': list(np.arange(0.1,5,0.1))}"
   ]
  },
  {
   "cell_type": "code",
   "execution_count": 169,
   "id": "ef9adaf4",
   "metadata": {},
   "outputs": [],
   "source": [
    "mnb_grid = GridSearchCV(MultinomialNB(), param_grid= params, cv = 6, n_jobs=-1)"
   ]
  },
  {
   "cell_type": "code",
   "execution_count": 170,
   "id": "b507a256",
   "metadata": {},
   "outputs": [
    {
     "name": "stdout",
     "output_type": "stream",
     "text": [
      "Best Estimators == > \n",
      " {'alpha': 0.5}\n"
     ]
    }
   ],
   "source": [
    "mnb_grid.fit(x_train,y_train)\n",
    "print('Best Estimators == > \\n', mnb_grid.best_params_)"
   ]
  },
  {
   "cell_type": "code",
   "execution_count": 108,
   "id": "2e0a5fde",
   "metadata": {},
   "outputs": [],
   "source": [
    "# mnb_clf= mnb_grid.best_estimator_\n",
    "mnb_grid = mnb_clf.fit(x_train, y_train)"
   ]
  },
  {
   "cell_type": "code",
   "execution_count": 109,
   "id": "091d9952",
   "metadata": {},
   "outputs": [],
   "source": [
    "mnb_y_pred =  mnb_grid.predict(x_test)"
   ]
  },
  {
   "cell_type": "code",
   "execution_count": 110,
   "id": "cdf11bd7",
   "metadata": {},
   "outputs": [
    {
     "name": "stdout",
     "output_type": "stream",
     "text": [
      "---Confusion Matrix for Naive Byes---\n",
      "\n",
      " [[70  7 13  9  4]\n",
      " [31 15 22 23 11]\n",
      " [14 12 25 35 17]\n",
      " [ 4  2 10 61 33]\n",
      " [ 4  1  5 32 66]]\n",
      "---Accuracy Score for Naive Byes---\n",
      "\n",
      " 0.4505703422053232\n",
      "\n",
      "---Classification Report for Naive Byes---\n",
      "\n",
      "               precision    recall  f1-score   support\n",
      "\n",
      "         1.0       0.57      0.68      0.62       103\n",
      "         2.0       0.41      0.15      0.22       102\n",
      "         3.0       0.33      0.24      0.28       103\n",
      "         4.0       0.38      0.55      0.45       110\n",
      "         5.0       0.50      0.61      0.55       108\n",
      "\n",
      "    accuracy                           0.45       526\n",
      "   macro avg       0.44      0.45      0.42       526\n",
      "weighted avg       0.44      0.45      0.43       526\n",
      "\n"
     ]
    }
   ],
   "source": [
    "print('---Confusion Matrix for Naive Byes---\\n\\n', confusion_matrix(y_test,mnb_y_pred))\n",
    "print('---Accuracy Score for Naive Byes---\\n\\n',accuracy_score(y_test,mnb_y_pred))\n",
    "print('\\n---Classification Report for Naive Byes---\\n\\n',classification_report(y_test,mnb_y_pred))"
   ]
  },
  {
   "cell_type": "markdown",
   "id": "8d02a147",
   "metadata": {},
   "source": [
    "**With One Vs Rest**"
   ]
  },
  {
   "cell_type": "code",
   "execution_count": 113,
   "id": "e567a6f4",
   "metadata": {},
   "outputs": [],
   "source": [
    "ovr_grid  = OneVsRestClassifier(mnb_clf)\n",
    "ovr_mnb_grid = ovr_grid.fit(x_train, y_train)"
   ]
  },
  {
   "cell_type": "code",
   "execution_count": 114,
   "id": "f78ddd06",
   "metadata": {},
   "outputs": [],
   "source": [
    "ovr_y_pred =  ovr_mnb_grid.predict(x_test)"
   ]
  },
  {
   "cell_type": "code",
   "execution_count": 115,
   "id": "30129fbe",
   "metadata": {},
   "outputs": [
    {
     "name": "stdout",
     "output_type": "stream",
     "text": [
      "---Confusion Matrix for Naive Byes---\n",
      "\n",
      " [[70  6 11 12  4]\n",
      " [33 21 19 20  9]\n",
      " [16 14 24 30 19]\n",
      " [ 4  3 12 56 35]\n",
      " [ 4  1  4 31 68]]\n",
      "---Accuracy Score for Naive Byes---\n",
      "\n",
      " 0.4543726235741445\n",
      "\n",
      "---Classification Report for Naive Byes---\n",
      "\n",
      "               precision    recall  f1-score   support\n",
      "\n",
      "         1.0       0.55      0.68      0.61       103\n",
      "         2.0       0.47      0.21      0.29       102\n",
      "         3.0       0.34      0.23      0.28       103\n",
      "         4.0       0.38      0.51      0.43       110\n",
      "         5.0       0.50      0.63      0.56       108\n",
      "\n",
      "    accuracy                           0.45       526\n",
      "   macro avg       0.45      0.45      0.43       526\n",
      "weighted avg       0.45      0.45      0.43       526\n",
      "\n"
     ]
    }
   ],
   "source": [
    "print('---Confusion Matrix for Naive Byes---\\n\\n', confusion_matrix(y_test,ovr_y_pred))\n",
    "print('---Accuracy Score for Naive Byes---\\n\\n',accuracy_score(y_test,ovr_y_pred))\n",
    "print('\\n---Classification Report for Naive Byes---\\n\\n',classification_report(y_test,ovr_y_pred))"
   ]
  },
  {
   "cell_type": "code",
   "execution_count": 116,
   "id": "56eb2e26",
   "metadata": {},
   "outputs": [
    {
     "data": {
      "text/plain": [
       "0.3912420785804816"
      ]
     },
     "execution_count": 116,
     "metadata": {},
     "output_type": "execute_result"
    }
   ],
   "source": [
    "#Cross Validating.\n",
    "\n",
    "from sklearn.model_selection import cross_val_score\n",
    "\n",
    "cvs_mnb = cross_val_score(ovr_mnb_grid,x,y,cv=4)\n",
    "\n",
    "cvs_mnb.mean()"
   ]
  },
  {
   "cell_type": "markdown",
   "id": "2a559e00",
   "metadata": {},
   "source": [
    "**Passive Aggressive Classifier Algorithm**"
   ]
  },
  {
   "cell_type": "code",
   "execution_count": 73,
   "id": "68a21a26",
   "metadata": {},
   "outputs": [],
   "source": [
    "from sklearn.linear_model import PassiveAggressiveClassifier\n",
    "ovr_pac = OneVsRestClassifier(PassiveAggressiveClassifier())"
   ]
  },
  {
   "cell_type": "code",
   "execution_count": 74,
   "id": "c94232d3",
   "metadata": {},
   "outputs": [],
   "source": [
    "pac_model = ovr_pac.fit(x_train,y_train)\n",
    "pac_ypred = ovr_pac.predict(x_test)"
   ]
  },
  {
   "cell_type": "code",
   "execution_count": 75,
   "id": "0c3e9111",
   "metadata": {},
   "outputs": [
    {
     "name": "stdout",
     "output_type": "stream",
     "text": [
      "--Confusion Matrix for Passive Aggressive Classifier--\n",
      "\n",
      " [[58 23 15  6  1]\n",
      " [28 36 23  9  6]\n",
      " [19 28 25 15 16]\n",
      " [ 5  9 31 43 22]\n",
      " [ 5  8 18 21 56]]\n",
      "\n",
      "---Accuracy Score for Passive Aggressive Classifier---\n",
      "\n",
      " 0.4144486692015209\n",
      "\n",
      "---Classification Report for Passive Aggressive Classifier---\n",
      "\n",
      "               precision    recall  f1-score   support\n",
      "\n",
      "         1.0       0.50      0.56      0.53       103\n",
      "         2.0       0.35      0.35      0.35       102\n",
      "         3.0       0.22      0.24      0.23       103\n",
      "         4.0       0.46      0.39      0.42       110\n",
      "         5.0       0.55      0.52      0.54       108\n",
      "\n",
      "    accuracy                           0.41       526\n",
      "   macro avg       0.42      0.41      0.41       526\n",
      "weighted avg       0.42      0.41      0.42       526\n",
      "\n"
     ]
    }
   ],
   "source": [
    "print('--Confusion Matrix for Passive Aggressive Classifier--\\n\\n',confusion_matrix(y_test,pac_ypred))\n",
    "print('\\n---Accuracy Score for Passive Aggressive Classifier---\\n\\n',accuracy_score(y_test,pac_ypred))\n",
    "print('\\n---Classification Report for Passive Aggressive Classifier---\\n\\n',classification_report(y_test,pac_ypred))"
   ]
  },
  {
   "cell_type": "markdown",
   "id": "6abdb13a",
   "metadata": {},
   "source": [
    "### Other Models"
   ]
  },
  {
   "cell_type": "code",
   "execution_count": 117,
   "id": "1af06822",
   "metadata": {},
   "outputs": [],
   "source": [
    "from sklearn.linear_model import LogisticRegression\n",
    "from sklearn.tree import DecisionTreeClassifier\n",
    "from sklearn.ensemble import RandomForestClassifier\n",
    "from xgboost import XGBClassifier"
   ]
  },
  {
   "cell_type": "code",
   "execution_count": 77,
   "id": "773a54df",
   "metadata": {},
   "outputs": [],
   "source": [
    "ovr_lr = OneVsRestClassifier(LogisticRegression())\n",
    "ovr_dt = OneVsRestClassifier(DecisionTreeClassifier())\n",
    "ovr_rf = OneVsRestClassifier(RandomForestClassifier())\n",
    "ovr_XGB = OneVsRestClassifier(XGBClassifier())"
   ]
  },
  {
   "cell_type": "code",
   "execution_count": 80,
   "id": "34e34baa",
   "metadata": {},
   "outputs": [
    {
     "name": "stdout",
     "output_type": "stream",
     "text": [
      "[13:13:13] WARNING: C:/Users/Administrator/workspace/xgboost-win64_release_1.5.0/src/learner.cc:1115: Starting in XGBoost 1.3.0, the default evaluation metric used with the objective 'multi:softprob' was changed from 'merror' to 'mlogloss'. Explicitly set eval_metric if you'd like to restore the old behavior.\n",
      "All Models Trained\n"
     ]
    }
   ],
   "source": [
    "#training with the all of them\n",
    "\n",
    "ovr_lr.fit(x_train,y_train)\n",
    "ovr_dt.fit(x_train,y_train)\n",
    "ovr_rf.fit(x_train,y_train)\n",
    "ovr_XGB.fit(x_train,y_train)\n",
    "\n",
    "print(\"All Models Trained\")"
   ]
  },
  {
   "cell_type": "code",
   "execution_count": 82,
   "id": "b8d37996",
   "metadata": {},
   "outputs": [
    {
     "name": "stdout",
     "output_type": "stream",
     "text": [
      "All scores Captured\n"
     ]
    }
   ],
   "source": [
    "ovr_lr.score(x_test,y_test)\n",
    "ovr_dt.score(x_test,y_test)\n",
    "ovr_rf.score(x_test,y_test)\n",
    "ovr_XGB.score(x_test,y_test)\n",
    "\n",
    "print(\"All scores Captured\")"
   ]
  },
  {
   "cell_type": "code",
   "execution_count": 84,
   "id": "1d3f8a00",
   "metadata": {},
   "outputs": [
    {
     "name": "stdout",
     "output_type": "stream",
     "text": [
      "Logistic Regression = 0.4619771863117871\n",
      "Decision Tree = 0.3726235741444867\n",
      "Random Forest = 0.42395437262357416\n",
      "Xtreme Gradient Boost = 0.41064638783269963\n"
     ]
    }
   ],
   "source": [
    "#Accuracy score\n",
    "print('Logistic Regression =', accuracy_score(y_test,ovr_lr.predict(x_test)))\n",
    "print('Decision Tree =', accuracy_score(y_test,ovr_dt.predict(x_test)))\n",
    "print('Random Forest =', accuracy_score(y_test,ovr_rf.predict(x_test)))\n",
    "print('Xtreme Gradient Boost =', accuracy_score(y_test,ovr_XGB.predict(x_test)))"
   ]
  },
  {
   "cell_type": "code",
   "execution_count": 87,
   "id": "e711f87c",
   "metadata": {},
   "outputs": [
    {
     "name": "stdout",
     "output_type": "stream",
     "text": [
      "Classification report of Logistic Regression \n",
      "               precision    recall  f1-score   support\n",
      "\n",
      "         1.0       0.56      0.62      0.59       103\n",
      "         2.0       0.42      0.38      0.40       102\n",
      "         3.0       0.29      0.28      0.28       103\n",
      "         4.0       0.44      0.43      0.43       110\n",
      "         5.0       0.58      0.59      0.58       108\n",
      "\n",
      "    accuracy                           0.46       526\n",
      "   macro avg       0.46      0.46      0.46       526\n",
      "weighted avg       0.46      0.46      0.46       526\n",
      "\n",
      "Classification report of Decision Tree \n",
      "               precision    recall  f1-score   support\n",
      "\n",
      "         1.0       0.42      0.45      0.43       103\n",
      "         2.0       0.34      0.43      0.38       102\n",
      "         3.0       0.31      0.27      0.29       103\n",
      "         4.0       0.38      0.37      0.37       110\n",
      "         5.0       0.42      0.34      0.38       108\n",
      "\n",
      "    accuracy                           0.37       526\n",
      "   macro avg       0.37      0.37      0.37       526\n",
      "weighted avg       0.37      0.37      0.37       526\n",
      "\n",
      "Classification report of Random Forest \n",
      "               precision    recall  f1-score   support\n",
      "\n",
      "         1.0       0.56      0.58      0.57       103\n",
      "         2.0       0.33      0.47      0.39       102\n",
      "         3.0       0.30      0.18      0.23       103\n",
      "         4.0       0.40      0.35      0.37       110\n",
      "         5.0       0.50      0.54      0.52       108\n",
      "\n",
      "    accuracy                           0.42       526\n",
      "   macro avg       0.42      0.42      0.42       526\n",
      "weighted avg       0.42      0.42      0.42       526\n",
      "\n",
      "Classification report of Xtreme Gradient Boost \n",
      "               precision    recall  f1-score   support\n",
      "\n",
      "         1.0       0.58      0.62      0.60       103\n",
      "         2.0       0.34      0.35      0.35       102\n",
      "         3.0       0.27      0.27      0.27       103\n",
      "         4.0       0.35      0.35      0.35       110\n",
      "         5.0       0.53      0.46      0.49       108\n",
      "\n",
      "    accuracy                           0.41       526\n",
      "   macro avg       0.41      0.41      0.41       526\n",
      "weighted avg       0.41      0.41      0.41       526\n",
      "\n"
     ]
    }
   ],
   "source": [
    "#Classification Report\n",
    "\n",
    "print('Classification report of Logistic Regression \\n', classification_report(y_test,ovr_lr.predict(x_test)))\n",
    "print('Classification report of Decision Tree \\n', classification_report(y_test,ovr_dt.predict(x_test)))\n",
    "print('Classification report of Random Forest \\n', classification_report(y_test,ovr_rf.predict(x_test)))\n",
    "print('Classification report of Xtreme Gradient Boost \\n', classification_report(y_test,ovr_XGB.predict(x_test)))"
   ]
  },
  {
   "cell_type": "code",
   "execution_count": 119,
   "id": "49fdf5a2",
   "metadata": {},
   "outputs": [
    {
     "name": "stdout",
     "output_type": "stream",
     "text": [
      "Confusion Matrix of Logistic Regression\n",
      " [[64 18 15  5  1]\n",
      " [26 39 25 10  2]\n",
      " [17 22 29 21 14]\n",
      " [ 4  6 23 47 30]\n",
      " [ 4  7  9 24 64]]\n",
      "Confusion Matrix of Decision Tree\n",
      " [[46 30 12  8  7]\n",
      " [27 44 17 12  2]\n",
      " [17 24 28 19 15]\n",
      " [12 14 15 41 28]\n",
      " [ 8 16 18 29 37]]\n",
      "Confusion Matrix of Random Forest \n",
      " [[60 31  7  2  3]\n",
      " [28 48 12 13  1]\n",
      " [13 37 19 16 18]\n",
      " [ 4 15 18 38 35]\n",
      " [ 2 16  7 25 58]]\n",
      "Confusion Matrix of Xtreme Gradient Boost \n",
      " [[64 19 11  7  2]\n",
      " [28 36 21 14  3]\n",
      " [12 27 28 22 14]\n",
      " [ 4 10 32 38 26]\n",
      " [ 3 14 12 29 50]]\n"
     ]
    }
   ],
   "source": [
    "print('Confusion Matrix of Logistic Regression\\n', confusion_matrix(y_test,ovr_lr.predict(x_test)))\n",
    "print('Confusion Matrix of Decision Tree\\n', confusion_matrix(y_test,ovr_dt.predict(x_test)))\n",
    "print('Confusion Matrix of Random Forest \\n', confusion_matrix(y_test,ovr_rf.predict(x_test)))\n",
    "print('Confusion Matrix of Xtreme Gradient Boost \\n', confusion_matrix(y_test,ovr_XGB.predict(x_test)))"
   ]
  },
  {
   "cell_type": "markdown",
   "id": "1f43a48d",
   "metadata": {},
   "source": [
    "# After checking all the parameters we can see that LogisticRegression is giving us the best predictions for this dataset."
   ]
  },
  {
   "cell_type": "markdown",
   "id": "3ef9ea41",
   "metadata": {},
   "source": [
    "**Hyperparameter Tuning**"
   ]
  },
  {
   "cell_type": "markdown",
   "id": "ed74ff3a",
   "metadata": {},
   "source": [
    "# Logistic Regression"
   ]
  },
  {
   "cell_type": "code",
   "execution_count": 120,
   "id": "cb02829c",
   "metadata": {},
   "outputs": [],
   "source": [
    "params = {'penalty': ['l1', 'l2', 'elasticnet', 'none'],\n",
    "         'C':[1.0,2.0],\n",
    "         'solver' : ['newton-cg', 'lbfgs', 'liblinear', 'sag', 'saga'],\n",
    "          'max_iter':[100,110],\n",
    "         }"
   ]
  },
  {
   "cell_type": "code",
   "execution_count": 124,
   "id": "f4bdb217",
   "metadata": {},
   "outputs": [],
   "source": [
    "grid = GridSearchCV(LogisticRegression(), param_grid= params, cv = 2, n_jobs=-1)"
   ]
  },
  {
   "cell_type": "code",
   "execution_count": 125,
   "id": "44f53491",
   "metadata": {},
   "outputs": [
    {
     "data": {
      "text/plain": [
       "GridSearchCV(cv=2, estimator=LogisticRegression(), n_jobs=-1,\n",
       "             param_grid={'C': [1.0, 2.0], 'max_iter': [100, 110],\n",
       "                         'penalty': ['l1', 'l2', 'elasticnet', 'none'],\n",
       "                         'solver': ['newton-cg', 'lbfgs', 'liblinear', 'sag',\n",
       "                                    'saga']})"
      ]
     },
     "execution_count": 125,
     "metadata": {},
     "output_type": "execute_result"
    }
   ],
   "source": [
    "grid.fit(x_train,y_train)"
   ]
  },
  {
   "cell_type": "code",
   "execution_count": 126,
   "id": "948444d8",
   "metadata": {},
   "outputs": [
    {
     "name": "stdout",
     "output_type": "stream",
     "text": [
      "Best Estimators == > \n",
      " {'C': 2.0, 'max_iter': 100, 'penalty': 'l1', 'solver': 'liblinear'}\n"
     ]
    }
   ],
   "source": [
    "print('Best Estimators == > \\n', grid.best_params_)"
   ]
  },
  {
   "cell_type": "code",
   "execution_count": 127,
   "id": "5a886fe2",
   "metadata": {},
   "outputs": [],
   "source": [
    "clf= grid.best_estimator_"
   ]
  },
  {
   "cell_type": "code",
   "execution_count": 133,
   "id": "328d5209",
   "metadata": {},
   "outputs": [],
   "source": [
    "ovr_grid_lr=OneVsRestClassifier(clf)"
   ]
  },
  {
   "cell_type": "code",
   "execution_count": 135,
   "id": "a7a9336b",
   "metadata": {},
   "outputs": [
    {
     "data": {
      "text/plain": [
       "OneVsRestClassifier(estimator=LogisticRegression(C=2.0, penalty='l1',\n",
       "                                                 solver='liblinear'))"
      ]
     },
     "execution_count": 135,
     "metadata": {},
     "output_type": "execute_result"
    }
   ],
   "source": [
    "ovr_grid_lr.fit(x_train, y_train)"
   ]
  },
  {
   "cell_type": "code",
   "execution_count": 138,
   "id": "17352faa",
   "metadata": {},
   "outputs": [],
   "source": [
    "y_pred =  ovr_grid_lr.predict(x_test)"
   ]
  },
  {
   "cell_type": "code",
   "execution_count": 139,
   "id": "dfd67301",
   "metadata": {},
   "outputs": [
    {
     "name": "stdout",
     "output_type": "stream",
     "text": [
      "Accuracy Score= 0.4296577946768061\n",
      "Confusion Matrix\n",
      " [[64 20 12  5  2]\n",
      " [35 39 16  9  3]\n",
      " [14 24 24 27 14]\n",
      " [ 5  9 23 37 36]\n",
      " [ 3  7 11 25 62]]\n",
      "Classification Report\n",
      "               precision    recall  f1-score   support\n",
      "\n",
      "         1.0       0.53      0.62      0.57       103\n",
      "         2.0       0.39      0.38      0.39       102\n",
      "         3.0       0.28      0.23      0.25       103\n",
      "         4.0       0.36      0.34      0.35       110\n",
      "         5.0       0.53      0.57      0.55       108\n",
      "\n",
      "    accuracy                           0.43       526\n",
      "   macro avg       0.42      0.43      0.42       526\n",
      "weighted avg       0.42      0.43      0.42       526\n",
      "\n"
     ]
    }
   ],
   "source": [
    "print('Accuracy Score=',accuracy_score(y_test,y_pred))\n",
    "print('Confusion Matrix\\n',confusion_matrix(y_test,y_pred))\n",
    "print('Classification Report\\n',classification_report(y_test,y_pred))"
   ]
  },
  {
   "cell_type": "code",
   "execution_count": 141,
   "id": "0c31ced0",
   "metadata": {},
   "outputs": [
    {
     "data": {
      "text/plain": [
       "0.39885659967409015"
      ]
     },
     "execution_count": 141,
     "metadata": {},
     "output_type": "execute_result"
    }
   ],
   "source": [
    "#Cross Validating.\n",
    "\n",
    "from sklearn.model_selection import cross_val_score\n",
    "\n",
    "cvs_lr = cross_val_score(ovr_grid_lr,x,y,cv=4)\n",
    "\n",
    "cvs_lr.mean()"
   ]
  },
  {
   "cell_type": "code",
   "execution_count": 143,
   "id": "dc84c92f",
   "metadata": {},
   "outputs": [],
   "source": [
    "#XGB Classifier"
   ]
  },
  {
   "cell_type": "code",
   "execution_count": 144,
   "id": "13409076",
   "metadata": {},
   "outputs": [],
   "source": [
    "xgb_params = {'n_estimators':[100,120],\n",
    "         'criterion':['gini','entropy'],\n",
    "        'learning_rate' :[0.25,0.30],\n",
    "          'booster':['gbtree','dart'],\n",
    "         'max_depth':[5,6]}"
   ]
  },
  {
   "cell_type": "code",
   "execution_count": 147,
   "id": "540c5d6a",
   "metadata": {},
   "outputs": [],
   "source": [
    "xgb_grid = GridSearchCV(XGBClassifier(), param_grid= xgb_params, cv = 4, n_jobs=-1)"
   ]
  },
  {
   "cell_type": "code",
   "execution_count": 148,
   "id": "fb2bcb9d",
   "metadata": {},
   "outputs": [
    {
     "name": "stdout",
     "output_type": "stream",
     "text": [
      "[14:32:27] WARNING: C:/Users/Administrator/workspace/xgboost-win64_release_1.5.0/src/learner.cc:576: \n",
      "Parameters: { \"criterion\" } might not be used.\n",
      "\n",
      "  This could be a false alarm, with some parameters getting used by language bindings but\n",
      "  then being mistakenly passed down to XGBoost core, or some parameter actually being used\n",
      "  but getting flagged wrongly here. Please open an issue if you find any such cases.\n",
      "\n",
      "\n",
      "[14:32:27] WARNING: C:/Users/Administrator/workspace/xgboost-win64_release_1.5.0/src/learner.cc:1115: Starting in XGBoost 1.3.0, the default evaluation metric used with the objective 'multi:softprob' was changed from 'merror' to 'mlogloss'. Explicitly set eval_metric if you'd like to restore the old behavior.\n",
      "Best Estimators == > \n",
      " {'booster': 'gbtree', 'criterion': 'gini', 'learning_rate': 0.25, 'max_depth': 5, 'n_estimators': 100}\n"
     ]
    }
   ],
   "source": [
    "xgb_grid.fit(x_train,y_train)\n",
    "print('Best Estimators == > \\n', xgb_grid.best_params_)"
   ]
  },
  {
   "cell_type": "code",
   "execution_count": 152,
   "id": "6e7968f4",
   "metadata": {},
   "outputs": [
    {
     "name": "stdout",
     "output_type": "stream",
     "text": [
      "[14:37:55] WARNING: C:/Users/Administrator/workspace/xgboost-win64_release_1.5.0/src/learner.cc:576: \n",
      "Parameters: { \"criterion\" } might not be used.\n",
      "\n",
      "  This could be a false alarm, with some parameters getting used by language bindings but\n",
      "  then being mistakenly passed down to XGBoost core, or some parameter actually being used\n",
      "  but getting flagged wrongly here. Please open an issue if you find any such cases.\n",
      "\n",
      "\n",
      "[14:37:55] WARNING: C:/Users/Administrator/workspace/xgboost-win64_release_1.5.0/src/learner.cc:1115: Starting in XGBoost 1.3.0, the default evaluation metric used with the objective 'multi:softprob' was changed from 'merror' to 'mlogloss'. Explicitly set eval_metric if you'd like to restore the old behavior.\n"
     ]
    }
   ],
   "source": [
    "xgb_gridclf= xgb_grid.best_estimator_\n",
    "xgb_gridclf.fit(x_train, y_train)\n",
    "xgb_gridclf_y_pred =  xgb_gridclf.predict(x_test)"
   ]
  },
  {
   "cell_type": "code",
   "execution_count": 153,
   "id": "65b05afb",
   "metadata": {},
   "outputs": [
    {
     "name": "stdout",
     "output_type": "stream",
     "text": [
      "---Confusion Matrix for XGB Classifier---\n",
      "\n",
      " [[61 21 13  7  1]\n",
      " [26 34 22 16  4]\n",
      " [10 25 31 21 16]\n",
      " [ 6  9 26 37 32]\n",
      " [ 4 13 13 25 53]]\n",
      "---Accuracy Score for XGB Classifier---\n",
      "\n",
      " 0.41064638783269963\n",
      "\n",
      "---Classification Report for XGB Classifier---\n",
      "\n",
      "               precision    recall  f1-score   support\n",
      "\n",
      "         1.0       0.57      0.59      0.58       103\n",
      "         2.0       0.33      0.33      0.33       102\n",
      "         3.0       0.30      0.30      0.30       103\n",
      "         4.0       0.35      0.34      0.34       110\n",
      "         5.0       0.50      0.49      0.50       108\n",
      "\n",
      "    accuracy                           0.41       526\n",
      "   macro avg       0.41      0.41      0.41       526\n",
      "weighted avg       0.41      0.41      0.41       526\n",
      "\n"
     ]
    }
   ],
   "source": [
    "print('---Confusion Matrix for XGB Classifier---\\n\\n', confusion_matrix(y_test,xgb_gridclf_y_pred))\n",
    "print('---Accuracy Score for XGB Classifier---\\n\\n',accuracy_score(y_test,xgb_gridclf_y_pred))\n",
    "print('\\n---Classification Report for XGB Classifier---\\n\\n',classification_report(y_test,xgb_gridclf_y_pred))"
   ]
  },
  {
   "cell_type": "code",
   "execution_count": 97,
   "id": "bed2fedb",
   "metadata": {},
   "outputs": [],
   "source": [
    "#Random Forest"
   ]
  },
  {
   "cell_type": "code",
   "execution_count": 154,
   "id": "04e3acd4",
   "metadata": {},
   "outputs": [],
   "source": [
    "rf_params = {'n_estimators':[100,120],\n",
    "         'max_depth':list(range(1,5,1)),\n",
    "         'min_samples_split':list(range(1,6,1)),\n",
    "         'min_samples_leaf':list(range(1,5,1))}"
   ]
  },
  {
   "cell_type": "code",
   "execution_count": 159,
   "id": "e9e0fd46",
   "metadata": {},
   "outputs": [],
   "source": [
    "rf_grid = GridSearchCV(RandomForestClassifier(), param_grid= rf_params, cv = 2, n_jobs=-1)"
   ]
  },
  {
   "cell_type": "code",
   "execution_count": 160,
   "id": "b4e133b4",
   "metadata": {},
   "outputs": [
    {
     "name": "stdout",
     "output_type": "stream",
     "text": [
      "Best Estimators == > \n",
      " {'max_depth': 4, 'min_samples_leaf': 2, 'min_samples_split': 3, 'n_estimators': 120}\n"
     ]
    }
   ],
   "source": [
    "rf_grid.fit(x_train,y_train)\n",
    "print('Best Estimators == > \\n', rf_grid.best_params_)"
   ]
  },
  {
   "cell_type": "code",
   "execution_count": 161,
   "id": "c3c5a052",
   "metadata": {},
   "outputs": [],
   "source": [
    "rf_clf= rf_grid.best_estimator_\n",
    "ovr_clf_rf = OneVsRestClassifier(rf_clf)\n",
    "ovr_clf_rf.fit(x_train, y_train)\n",
    "rf_clf_y_pred = ovr_clf_rf.predict(x_test)"
   ]
  },
  {
   "cell_type": "code",
   "execution_count": 163,
   "id": "e4ca0111",
   "metadata": {},
   "outputs": [
    {
     "name": "stdout",
     "output_type": "stream",
     "text": [
      "---Confusion Matrix for Random Forest Classifier---\n",
      "\n",
      " [[53 20  8 18  4]\n",
      " [30 31  8 28  5]\n",
      " [16 22  9 40 16]\n",
      " [ 3 10 10 58 29]\n",
      " [ 8  8  3 42 47]]\n",
      "---Accuracy Score for Random Forest Classifier---\n",
      "\n",
      " 0.376425855513308\n",
      "\n",
      "---Classification Report for Random Forest Classifier---\n",
      "\n",
      "               precision    recall  f1-score   support\n",
      "\n",
      "         1.0       0.48      0.51      0.50       103\n",
      "         2.0       0.34      0.30      0.32       102\n",
      "         3.0       0.24      0.09      0.13       103\n",
      "         4.0       0.31      0.53      0.39       110\n",
      "         5.0       0.47      0.44      0.45       108\n",
      "\n",
      "    accuracy                           0.38       526\n",
      "   macro avg       0.37      0.37      0.36       526\n",
      "weighted avg       0.37      0.38      0.36       526\n",
      "\n"
     ]
    }
   ],
   "source": [
    "print('---Confusion Matrix for Random Forest Classifier---\\n\\n', confusion_matrix(y_test,rf_clf_y_pred))\n",
    "print('---Accuracy Score for Random Forest Classifier---\\n\\n',accuracy_score(y_test,rf_clf_y_pred))\n",
    "print('\\n---Classification Report for Random Forest Classifier---\\n\\n',classification_report(y_test,rf_clf_y_pred))"
   ]
  },
  {
   "cell_type": "code",
   "execution_count": null,
   "id": "3548d4eb",
   "metadata": {},
   "outputs": [],
   "source": []
  }
 ],
 "metadata": {
  "kernelspec": {
   "display_name": "Python 3",
   "language": "python",
   "name": "python3"
  },
  "language_info": {
   "codemirror_mode": {
    "name": "ipython",
    "version": 3
   },
   "file_extension": ".py",
   "mimetype": "text/x-python",
   "name": "python",
   "nbconvert_exporter": "python",
   "pygments_lexer": "ipython3",
   "version": "3.8.8"
  }
 },
 "nbformat": 4,
 "nbformat_minor": 5
}
